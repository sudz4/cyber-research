{
 "cells": [
  {
   "cell_type": "code",
   "execution_count": 2,
   "metadata": {},
   "outputs": [
    {
     "name": "stdout",
     "output_type": "stream",
     "text": [
      "             IP  Hostname    Port  CVSS Severity  \\\n",
      "0  172.16.1.158       NaN   445.0   8.1     High   \n",
      "1   172.16.1.37       NaN    22.0   5.3   Medium   \n",
      "2  172.16.1.191       NaN    22.0   5.3   Medium   \n",
      "3  172.16.1.192       NaN  3389.0   5.0   Medium   \n",
      "4  172.16.1.158       NaN  3389.0   5.0   Medium   \n",
      "\n",
      "                                              Impact  \\\n",
      "0  Successful exploitation will allow remote\\n  a...   \n",
      "1  An attacker can quickly break individual conne...   \n",
      "2  An attacker can quickly break individual conne...   \n",
      "3                                                NaN   \n",
      "4                                                NaN   \n",
      "\n",
      "                                            Solution  \n",
      "0  The vendor has released updates. Please see th...  \n",
      "1  Disable the reported weak KEX algorithm(s)\\n\\n...  \n",
      "2  Disable the reported weak KEX algorithm(s)\\n\\n...  \n",
      "3  The configuration of this services should be c...  \n",
      "4  The configuration of this services should be c...  \n"
     ]
    }
   ],
   "source": [
    "import pandas as pd\n",
    "\n",
    "# Load the CSV file\n",
    "biz_df = pd.read_csv('business_ns.csv')\n",
    "\n",
    "# Select only the columns you're interested in\n",
    "biz_df = biz_df[['IP', 'Hostname', 'Port', 'CVSS', 'Severity', 'Impact', 'Solution']]\n",
    "\n",
    "# Now you have a pandas DataFrame with the specified columns\n",
    "biz_df.head()\n"
   ]
  },
  {
   "cell_type": "code",
   "execution_count": null,
   "metadata": {},
   "outputs": [],
   "source": [
    "import pandas as pd\n",
    "\n",
    "# Load the CSV file\n",
    "web_df = pd.read_csv('website_ns.csv')\n",
    "\n",
    "# Select only the columns you're interested in\n",
    "web_df = web_df[['IP', 'Hostname', 'Port', 'CVSS', 'Severity', 'Impact', 'Solution']]\n",
    "\n",
    "# Now you have a pandas DataFrame with the specified columns\n",
    "web_df.head()\n"
   ]
  },
  {
   "cell_type": "code",
   "execution_count": null,
   "metadata": {},
   "outputs": [],
   "source": []
  }
 ],
 "metadata": {
  "kernelspec": {
   "display_name": "cyb_venv",
   "language": "python",
   "name": "python3"
  },
  "language_info": {
   "codemirror_mode": {
    "name": "ipython",
    "version": 3
   },
   "file_extension": ".py",
   "mimetype": "text/x-python",
   "name": "python",
   "nbconvert_exporter": "python",
   "pygments_lexer": "ipython3",
   "version": "3.11.1"
  },
  "orig_nbformat": 4
 },
 "nbformat": 4,
 "nbformat_minor": 2
}

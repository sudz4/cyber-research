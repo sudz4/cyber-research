{
 "cells": [
  {
   "cell_type": "code",
   "execution_count": 6,
   "metadata": {},
   "outputs": [
    {
     "ename": "FileNotFoundError",
     "evalue": "[Errno 2] No such file or directory: '/Users/sudz4/Desktop/SUDZ4DEV/cyber-research/nmap_output/hw3_nmap_findings_4.1.xml'",
     "output_type": "error",
     "traceback": [
      "\u001b[0;31m---------------------------------------------------------------------------\u001b[0m",
      "\u001b[0;31mFileNotFoundError\u001b[0m                         Traceback (most recent call last)",
      "Cell \u001b[0;32mIn[6], line 5\u001b[0m\n\u001b[1;32m      2\u001b[0m \u001b[39mimport\u001b[39;00m \u001b[39mpandas\u001b[39;00m \u001b[39mas\u001b[39;00m \u001b[39mpd\u001b[39;00m\n\u001b[1;32m      4\u001b[0m \u001b[39m# Parse XML file\u001b[39;00m\n\u001b[0;32m----> 5\u001b[0m tree \u001b[39m=\u001b[39m ET\u001b[39m.\u001b[39;49mparse(\u001b[39m'\u001b[39;49m\u001b[39m/Users/sudz4/Desktop/SUDZ4DEV/cyber-research/nmap_output/hw3_nmap_findings_4.1.xml\u001b[39;49m\u001b[39m'\u001b[39;49m)\n\u001b[1;32m      6\u001b[0m root \u001b[39m=\u001b[39m tree\u001b[39m.\u001b[39mgetroot()\n\u001b[1;32m      8\u001b[0m \u001b[39m# Initialize a list to hold all the scan data\u001b[39;00m\n",
      "File \u001b[0;32m/Library/Frameworks/Python.framework/Versions/3.11/lib/python3.11/xml/etree/ElementTree.py:1218\u001b[0m, in \u001b[0;36mparse\u001b[0;34m(source, parser)\u001b[0m\n\u001b[1;32m   1209\u001b[0m \u001b[39m\u001b[39m\u001b[39m\"\"\"Parse XML document into element tree.\u001b[39;00m\n\u001b[1;32m   1210\u001b[0m \n\u001b[1;32m   1211\u001b[0m \u001b[39m*source* is a filename or file object containing XML data,\u001b[39;00m\n\u001b[0;32m   (...)\u001b[0m\n\u001b[1;32m   1215\u001b[0m \n\u001b[1;32m   1216\u001b[0m \u001b[39m\"\"\"\u001b[39;00m\n\u001b[1;32m   1217\u001b[0m tree \u001b[39m=\u001b[39m ElementTree()\n\u001b[0;32m-> 1218\u001b[0m tree\u001b[39m.\u001b[39;49mparse(source, parser)\n\u001b[1;32m   1219\u001b[0m \u001b[39mreturn\u001b[39;00m tree\n",
      "File \u001b[0;32m/Library/Frameworks/Python.framework/Versions/3.11/lib/python3.11/xml/etree/ElementTree.py:569\u001b[0m, in \u001b[0;36mElementTree.parse\u001b[0;34m(self, source, parser)\u001b[0m\n\u001b[1;32m    567\u001b[0m close_source \u001b[39m=\u001b[39m \u001b[39mFalse\u001b[39;00m\n\u001b[1;32m    568\u001b[0m \u001b[39mif\u001b[39;00m \u001b[39mnot\u001b[39;00m \u001b[39mhasattr\u001b[39m(source, \u001b[39m\"\u001b[39m\u001b[39mread\u001b[39m\u001b[39m\"\u001b[39m):\n\u001b[0;32m--> 569\u001b[0m     source \u001b[39m=\u001b[39m \u001b[39mopen\u001b[39;49m(source, \u001b[39m\"\u001b[39;49m\u001b[39mrb\u001b[39;49m\u001b[39m\"\u001b[39;49m)\n\u001b[1;32m    570\u001b[0m     close_source \u001b[39m=\u001b[39m \u001b[39mTrue\u001b[39;00m\n\u001b[1;32m    571\u001b[0m \u001b[39mtry\u001b[39;00m:\n",
      "\u001b[0;31mFileNotFoundError\u001b[0m: [Errno 2] No such file or directory: '/Users/sudz4/Desktop/SUDZ4DEV/cyber-research/nmap_output/hw3_nmap_findings_4.1.xml'"
     ]
    }
   ],
   "source": [
    "import xml.etree.ElementTree as ET\n",
    "import pandas as pd\n",
    "\n",
    "# Parse XML file\n",
    "tree = ET.parse('/Users/sudz4/Desktop/SUDZ4DEV/cyber-research/nmap_output/hw3_nmap_findings_4.2.xml')\n",
    "root = tree.getroot()\n",
    "\n",
    "# Initialize a list to hold all the scan data\n",
    "scan_data = []\n",
    "\n",
    "# Iterate through the hosts in the XML file\n",
    "for host in root.iter('host'):\n",
    "    # Get the IP address of the host\n",
    "    address = host.find('address').get('addr')\n",
    "    # Iterate through the host's ports\n",
    "    for port in host.iter('port'):\n",
    "        # Get the portid and protocol\n",
    "        portid = port.get('portid')\n",
    "        protocol = port.get('protocol')\n",
    "        # Get the service name\n",
    "        service = port.find('service').get('name')\n",
    "        # Initialize a list to hold the CVEs for this port\n",
    "        cves = []\n",
    "        # Iterate through the scripts\n",
    "        for script in port.iter('script'):\n",
    "            # If the script is 'vulners', iterate through the 'table' elements\n",
    "            if script.get('id') == 'vulners':\n",
    "                for table in script.iter('table'):\n",
    "                    # Iterate through the 'elem' elements and add the CVEs to the list\n",
    "                    for elem in table.iter('elem'):\n",
    "                        if elem.get('key') == 'ID':\n",
    "                            cves.append(elem.text)\n",
    "        # Add the data for this port to the scan data\n",
    "        scan_data.append({'IP': address, \n",
    "                          'Protocol': protocol, \n",
    "                          'Port': portid, \n",
    "                          'Service': service, \n",
    "                          'CVEs': ', '.join(cves)})\n",
    "\n",
    "# Create a DataFrame from the list of scan data\n",
    "df = pd.DataFrame(scan_data)\n",
    "\n",
    "# Print out the DataFrame\n",
    "print(df)\n"
   ]
  }
 ],
 "metadata": {
  "kernelspec": {
   "display_name": "cyb_venv",
   "language": "python",
   "name": "python3"
  },
  "language_info": {
   "codemirror_mode": {
    "name": "ipython",
    "version": 3
   },
   "file_extension": ".py",
   "mimetype": "text/x-python",
   "name": "python",
   "nbconvert_exporter": "python",
   "pygments_lexer": "ipython3",
   "version": "3.11.1"
  },
  "orig_nbformat": 4
 },
 "nbformat": 4,
 "nbformat_minor": 2
}

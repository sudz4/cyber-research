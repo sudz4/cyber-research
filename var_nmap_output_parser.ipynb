{
 "cells": [
  {
   "cell_type": "code",
   "execution_count": 4,
   "metadata": {},
   "outputs": [
    {
     "ename": "ParseError",
     "evalue": "not well-formed (invalid token): line 1, column 1 (<string>)",
     "output_type": "error",
     "traceback": [
      "Traceback \u001b[0;36m(most recent call last)\u001b[0m:\n",
      "\u001b[0m  File \u001b[1;32m~/Desktop/SUDZ4DEV/cyber-research/cyb_venv/lib/python3.11/site-packages/IPython/core/interactiveshell.py:3508\u001b[0m in \u001b[1;35mrun_code\u001b[0m\n    exec(code_obj, self.user_global_ns, self.user_ns)\u001b[0m\n",
      "\u001b[0m  Cell \u001b[1;32mIn[4], line 5\u001b[0m\n    tree = ET.parse('/Users/sudz4/Desktop/SUDZ4DEV/cyber-research/nmap_output/hw3_nmap_findings_4.0')\u001b[0m\n",
      "\u001b[0m  File \u001b[1;32m/Library/Frameworks/Python.framework/Versions/3.11/lib/python3.11/xml/etree/ElementTree.py:1218\u001b[0m in \u001b[1;35mparse\u001b[0m\n    tree.parse(source, parser)\u001b[0m\n",
      "\u001b[0;36m  File \u001b[0;32m/Library/Frameworks/Python.framework/Versions/3.11/lib/python3.11/xml/etree/ElementTree.py:580\u001b[0;36m in \u001b[0;35mparse\u001b[0;36m\n\u001b[0;31m    self._root = parser._parse_whole(source)\u001b[0;36m\n",
      "\u001b[0;36m  File \u001b[0;32m<string>\u001b[0;36m\u001b[0m\n\u001b[0;31mParseError\u001b[0m\u001b[0;31m:\u001b[0m not well-formed (invalid token): line 1, column 1\n"
     ]
    }
   ],
   "source": [
    "import xml.etree.ElementTree as ET\n",
    "import pandas as pd\n",
    "\n",
    "# Parse XML file\n",
    "tree = ET.parse('/Users/sudz4/Desktop/SUDZ4DEV/cyber-research/nmap_output/hw3_nmap_findings_4.0.xml')\n",
    "root = tree.getroot()\n",
    "\n",
    "# Initialize a list to hold all the scan data\n",
    "scan_data = []\n",
    "\n",
    "# Iterate through the hosts in the XML file\n",
    "for host in root.iter('host'):\n",
    "    # Get the IP address of the host\n",
    "    address = host.find('address').get('addr')\n",
    "    # Iterate through the host's ports\n",
    "    for port in host.iter('port'):\n",
    "        # Get the portid and protocol\n",
    "        portid = port.get('portid')\n",
    "        protocol = port.get('protocol')\n",
    "        # Get the service name\n",
    "        service = port.find('service').get('name')\n",
    "        # Initialize a list to hold the CVEs for this port\n",
    "        cves = []\n",
    "        # Iterate through the scripts\n",
    "        for script in port.iter('script'):\n",
    "            # If the script is 'vulners', iterate through the 'table' elements\n",
    "            if script.get('id') == 'vulners':\n",
    "                for table in script.iter('table'):\n",
    "                    # Iterate through the 'elem' elements and add the CVEs to the list\n",
    "                    for elem in table.iter('elem'):\n",
    "                        if elem.get('key') == 'ID':\n",
    "                            cves.append(elem.text)\n",
    "        # Add the data for this port to the scan data\n",
    "        scan_data.append({'IP': address, \n",
    "                          'Protocol': protocol, \n",
    "                          'Port': portid, \n",
    "                          'Service': service, \n",
    "                          'CVEs': ', '.join(cves)})\n",
    "\n",
    "# Create a DataFrame from the list of scan data\n",
    "df = pd.DataFrame(scan_data)\n",
    "\n",
    "# Print out the DataFrame\n",
    "print(df)\n"
   ]
  }
 ],
 "metadata": {
  "kernelspec": {
   "display_name": "cyb_venv",
   "language": "python",
   "name": "python3"
  },
  "language_info": {
   "codemirror_mode": {
    "name": "ipython",
    "version": 3
   },
   "file_extension": ".py",
   "mimetype": "text/x-python",
   "name": "python",
   "nbconvert_exporter": "python",
   "pygments_lexer": "ipython3",
   "version": "3.11.1"
  },
  "orig_nbformat": 4
 },
 "nbformat": 4,
 "nbformat_minor": 2
}
